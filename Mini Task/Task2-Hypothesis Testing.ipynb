{
 "cells": [
  {
   "cell_type": "markdown",
   "id": "5e217c1e-f685-4037-a462-4f2c03237c76",
   "metadata": {},
   "source": [
    "Q1.Suppose a child psychologist claims that the average time working mothers spend talking to their children is at least 11 minutes per day. You conduct a random sample of 1000 working mothers and find they spend an average of 11.5 minutes per day talking with their children. Assume prior research suggests the population standard deviation is 2.3 minutes.Conduct a test with a level of significance of alpha = 0.05.\r\n"
   ]
  },
  {
   "cell_type": "code",
   "execution_count": 62,
   "id": "b7e922a1-cb2c-41db-ac9a-4134051b0539",
   "metadata": {},
   "outputs": [],
   "source": [
    "import scipy.stats as stats"
   ]
  },
  {
   "cell_type": "code",
   "execution_count": 63,
   "id": "a9cf3e9e-47a7-42a1-ab60-5d02633871fb",
   "metadata": {},
   "outputs": [],
   "source": [
    "# given data\n",
    "# population mean under null hypothesis\n",
    "population_mean=11  \n",
    "sample_size=1000    \n",
    "sample_mean=11.5\n",
    "# standard deviation of population\n",
    "population_std=2.3\n",
    "# significance level\n",
    "alpha=0.05          "
   ]
  },
  {
   "cell_type": "code",
   "execution_count": 64,
   "id": "98a662a6-15a6-49a3-8a81-bfb817e0dc82",
   "metadata": {},
   "outputs": [
    {
     "name": "stdout",
     "output_type": "stream",
     "text": [
      "6.874516652539955\n",
      "1.6448536269514722\n"
     ]
    }
   ],
   "source": [
    "# calculate z test statistics\n",
    "#Null Hypothesis (H0): The average time working mothers spend talking to their children is 11 minutes per day or less.\n",
    "#Alternative Hypothesis (H1): The average time is greater than 11 minutes per day.\n",
    "#Here, the psychologist claims that the average time is at least 11 minutes, \n",
    "#indicating a one-tailed test focused on the upper tail of the distribution. \n",
    "#Thus, we'll use norm.ppf(1 - alpha) to find the critical value.\n",
    "\n",
    "z_score=(sample_mean-population_mean)/(population_std/(sample_size**0.5))\n",
    "print(z_score)\n",
    "# calculate the critical value\n",
    "critical_value=stats.norm.ppf(1-alpha)\n",
    "print(critical_value)\n"
   ]
  },
  {
   "cell_type": "code",
   "execution_count": 65,
   "id": "8ac000b2-aec7-42ee-80e7-3d6d3a5fd2ef",
   "metadata": {},
   "outputs": [
    {
     "name": "stdout",
     "output_type": "stream",
     "text": [
      "Reject null hypothesis\n"
     ]
    }
   ],
   "source": [
    "#in a one-tailed test, you accept the null hypothesis if the calculated z-score falls within the non-critical region \n",
    "#(i.e., does not exceed the critical value). \n",
    "#You reject the null hypothesis if the calculated z-score falls in the critical region \n",
    "#(i.e., exceeds the critical value).\n",
    "\n",
    "if z_score < critical_value:\n",
    "    print(\"Fail to reject null hypothesis\")\n",
    "else:\n",
    "    print(\"Reject null hypothesis\")\n"
   ]
  },
  {
   "cell_type": "markdown",
   "id": "684fc130-6c67-475a-94e5-c41af55c75b8",
   "metadata": {},
   "source": [
    "Q2. A coffee shop claims that their average wait time for customers is less than 5 minutes. To test this claim, a sample of 40 customers is taken, and their wait times are recorded. The sample mean wait time is found to be 4.6 minutes with a standard deviation of 0.8 minutes. Perform a hypothesis test at a significance level of 0.05 and determine whether there is enough evidence to support the coffee shop's claim."
   ]
  },
  {
   "cell_type": "code",
   "execution_count": 66,
   "id": "46b143e8-2a15-4dbe-980c-d1deea34b15d",
   "metadata": {},
   "outputs": [],
   "source": [
    "import scipy.stats as stats"
   ]
  },
  {
   "cell_type": "code",
   "execution_count": 67,
   "id": "a22037f4-d4b5-4cc5-91b9-70225853220b",
   "metadata": {},
   "outputs": [],
   "source": [
    "# given data\n",
    "# population mean under null hypothesis\n",
    "population_mean=5   \n",
    "sample_size=40\n",
    "sample_mean=4.6\n",
    "# standard deviation of population\n",
    "population_std=0.8  \n",
    "# significance level\n",
    "alpha=0.05           "
   ]
  },
  {
   "cell_type": "code",
   "execution_count": 68,
   "id": "a8884727-4556-40f1-a9b3-0d92798da782",
   "metadata": {},
   "outputs": [
    {
     "name": "stdout",
     "output_type": "stream",
     "text": [
      "z-score = -0.601274801898418\n",
      "criticalvalue = -1.6448536269514729\n"
     ]
    }
   ],
   "source": [
    "# calculate the z test statistics\n",
    "#Null Hypothesis (H0): The average wait time for customers is 5 minutes.\n",
    "#Alternative Hypothesis (H1): The average wait time is less than 5 minutes.\n",
    "#Since the claim is about the wait time being less than 5 minutes, \n",
    "#\tit's a one-tailed test focused on the lower tail of the distribution. \n",
    "#Therefore, we'll use norm.ppf(alpha) to find the critical value\n",
    "\n",
    "z_score=(sample_mean-population_mean)/(population_std/(sample_size**0.05))\n",
    "print(f\"z-score = {z_score}\")\n",
    "# calculate the critical value\n",
    "critical_value=stats.norm.ppf(alpha)\n",
    "print(f\"criticalvalue = {critical_value}\")\n"
   ]
  },
  {
   "cell_type": "code",
   "execution_count": 69,
   "id": "427bd4b5-50cf-47e3-b63b-bace4d18f341",
   "metadata": {},
   "outputs": [
    {
     "name": "stdout",
     "output_type": "stream",
     "text": [
      "Reject null hypothesis\n"
     ]
    }
   ],
   "source": [
    "#If the alternative hypothesis is non-directional (e.g., not equal to), you're conducting a two-tailed test.\n",
    "#If the absolute value of the calculated z-score is:\n",
    "#Greater than the absolute value of the critical value, you reject the null hypothesis.\n",
    "    \n",
    "if z_score>critical_value:\n",
    "    print(\"Reject null hypothesis\")\n",
    "else:\n",
    "    print(\"Fail to reject null hypothesis\")\n"
   ]
  },
  {
   "cell_type": "code",
   "execution_count": null,
   "id": "97bc7894-6d32-4bbc-bc65-3a28c3c72a4f",
   "metadata": {},
   "outputs": [],
   "source": []
  }
 ],
 "metadata": {
  "kernelspec": {
   "display_name": "Python 3 (ipykernel)",
   "language": "python",
   "name": "python3"
  },
  "language_info": {
   "codemirror_mode": {
    "name": "ipython",
    "version": 3
   },
   "file_extension": ".py",
   "mimetype": "text/x-python",
   "name": "python",
   "nbconvert_exporter": "python",
   "pygments_lexer": "ipython3",
   "version": "3.11.4"
  }
 },
 "nbformat": 4,
 "nbformat_minor": 5
}
